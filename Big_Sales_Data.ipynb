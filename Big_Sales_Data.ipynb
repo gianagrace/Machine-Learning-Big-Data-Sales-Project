{
  "nbformat": 4,
  "nbformat_minor": 0,
  "metadata": {
    "colab": {
      "provenance": []
    },
    "kernelspec": {
      "name": "python3",
      "display_name": "Python 3"
    },
    "language_info": {
      "name": "python"
    }
  },
  "cells": [
    {
      "cell_type": "markdown",
      "source": [
        "## Big Data Assignment: Liquor Sales in Iowa\n",
        "Giana Grace and Natalie Dume"
      ],
      "metadata": {
        "id": "HQTKOjylnSjl"
      }
    },
    {
      "cell_type": "markdown",
      "source": [
        "**Introduction**"
      ],
      "metadata": {
        "id": "K1EeQJl_n9no"
      }
    },
    {
      "cell_type": "markdown",
      "source": [
        "This dataset provides a detailed overview of liquor sales in Iowa, encompassing a wide range of data collected between 2012 and 2018 from multiple cities and stores. The dataset includes essential information such as store addresses, transaction counts, the number of bottles sold, bottle costs, and associated sales in dollars. It also contains specific details on product categories, bottle volumes, and pricing for both retailers and consumers. By analyzing trends across the dataset, key insights into Iowa's liquor consumption patterns, regional sales performance, and the economic impact of alcohol sales on the local economy can be uncovered.\n",
        "\n",
        "Liquor sales in Iowa are primarily driven by two factors: volume sold and price point. Higher sales volumes, particularly in terms of bottles and liters sold, will have a direct correlation with higher overall sales revenue. In addition, stores that offer more affordable retail pricing per bottle will experience higher sales due to price-sensitive consumer behavior. Regional differences, such as higher sales in urban areas compared to rural regions, may also reflect varying consumer preferences and disposable income levels.\n",
        "\n",
        "To gain deeper insights and make more accurate predictions regarding liquor sales, a Random Forest model was employed. This approach is well-suited for identifying important factors that influence total sales, such as vendor sources, store locations, and state retail prices.We also reduced the dimensions of the data to allow for more efficient processing, and used feature selection, sampling, and removing features with low importance. In addition to this, we simplified the data and targeted features. The model helps in understanding how different features contribute to sales variability, uncovering key drivers of revenue in Iowa's liquor market.\n",
        "\n"
      ],
      "metadata": {
        "id": "eaHmsFNpalA4"
      }
    },
    {
      "cell_type": "code",
      "source": [
        "from google.colab import drive\n",
        "drive.mount('/content/drive')"
      ],
      "metadata": {
        "colab": {
          "base_uri": "https://localhost:8080/"
        },
        "id": "ky4MzUrrfy4z",
        "outputId": "5fc153b7-ff54-4846-8746-0780b5d6dd1b"
      },
      "execution_count": null,
      "outputs": [
        {
          "output_type": "stream",
          "name": "stdout",
          "text": [
            "Drive already mounted at /content/drive; to attempt to forcibly remount, call drive.mount(\"/content/drive\", force_remount=True).\n"
          ]
        }
      ]
    },
    {
      "cell_type": "code",
      "source": [
        "%matplotlib inline\n",
        "import matplotlib.pyplot as plt\n",
        "import matplotlib as mpl\n",
        "import pandas as pd\n",
        "import numpy as np\n",
        "import seaborn as sns\n",
        "import psutil\n",
        "sns.set(style=\"darkgrid\")"
      ],
      "metadata": {
        "id": "8F7Hfbo7lV3W"
      },
      "execution_count": null,
      "outputs": []
    },
    {
      "cell_type": "code",
      "source": [
        "!python -m pip install dask[dataframe] --upgrade"
      ],
      "metadata": {
        "colab": {
          "base_uri": "https://localhost:8080/"
        },
        "id": "5zHRy_KQmxYW",
        "outputId": "c9a8f018-7e7a-4df2-ffb5-de128610985c"
      },
      "execution_count": null,
      "outputs": [
        {
          "output_type": "stream",
          "name": "stdout",
          "text": [
            "Requirement already satisfied: dask[dataframe] in /usr/local/lib/python3.10/dist-packages (2024.9.0)\n",
            "Requirement already satisfied: click>=8.1 in /usr/local/lib/python3.10/dist-packages (from dask[dataframe]) (8.1.7)\n",
            "Requirement already satisfied: cloudpickle>=3.0.0 in /usr/local/lib/python3.10/dist-packages (from dask[dataframe]) (3.0.0)\n",
            "Requirement already satisfied: fsspec>=2021.09.0 in /usr/local/lib/python3.10/dist-packages (from dask[dataframe]) (2024.6.1)\n",
            "Requirement already satisfied: packaging>=20.0 in /usr/local/lib/python3.10/dist-packages (from dask[dataframe]) (24.1)\n",
            "Requirement already satisfied: partd>=1.4.0 in /usr/local/lib/python3.10/dist-packages (from dask[dataframe]) (1.4.2)\n",
            "Requirement already satisfied: pyyaml>=5.3.1 in /usr/local/lib/python3.10/dist-packages (from dask[dataframe]) (6.0.2)\n",
            "Requirement already satisfied: toolz>=0.10.0 in /usr/local/lib/python3.10/dist-packages (from dask[dataframe]) (0.12.1)\n",
            "Requirement already satisfied: importlib-metadata>=4.13.0 in /usr/local/lib/python3.10/dist-packages (from dask[dataframe]) (8.5.0)\n",
            "Requirement already satisfied: pandas>=2.0 in /usr/local/lib/python3.10/dist-packages (from dask[dataframe]) (2.1.4)\n",
            "Requirement already satisfied: dask-expr<1.2,>=1.1 in /usr/local/lib/python3.10/dist-packages (from dask[dataframe]) (1.1.14)\n",
            "Requirement already satisfied: pyarrow>=14.0.1 in /usr/local/lib/python3.10/dist-packages (from dask-expr<1.2,>=1.1->dask[dataframe]) (14.0.2)\n",
            "Requirement already satisfied: zipp>=3.20 in /usr/local/lib/python3.10/dist-packages (from importlib-metadata>=4.13.0->dask[dataframe]) (3.20.1)\n",
            "Requirement already satisfied: numpy<2,>=1.22.4 in /usr/local/lib/python3.10/dist-packages (from pandas>=2.0->dask[dataframe]) (1.26.4)\n",
            "Requirement already satisfied: python-dateutil>=2.8.2 in /usr/local/lib/python3.10/dist-packages (from pandas>=2.0->dask[dataframe]) (2.8.2)\n",
            "Requirement already satisfied: pytz>=2020.1 in /usr/local/lib/python3.10/dist-packages (from pandas>=2.0->dask[dataframe]) (2024.2)\n",
            "Requirement already satisfied: tzdata>=2022.1 in /usr/local/lib/python3.10/dist-packages (from pandas>=2.0->dask[dataframe]) (2024.1)\n",
            "Requirement already satisfied: locket in /usr/local/lib/python3.10/dist-packages (from partd>=1.4.0->dask[dataframe]) (1.0.0)\n",
            "Requirement already satisfied: six>=1.5 in /usr/local/lib/python3.10/dist-packages (from python-dateutil>=2.8.2->pandas>=2.0->dask[dataframe]) (1.16.0)\n"
          ]
        }
      ]
    },
    {
      "cell_type": "markdown",
      "source": [
        "**Processing the Data**"
      ],
      "metadata": {
        "id": "uab6ZhzyoD1A"
      }
    },
    {
      "cell_type": "code",
      "source": [
        "import dask.dataframe as dd\n",
        "\n",
        "df = pd.read_csv(\"/content/drive/My Drive/Colab Notebooks/Liquor_Sales.csv\", nrows=20000)\n",
        "\n",
        "df.head()"
      ],
      "metadata": {
        "colab": {
          "base_uri": "https://localhost:8080/",
          "height": 498
        },
        "id": "P8yyZpAdn1um",
        "outputId": "d0703481-17ca-4494-be1e-cbf76140c8aa"
      },
      "execution_count": null,
      "outputs": [
        {
          "output_type": "execute_result",
          "data": {
            "text/plain": [
              "  Invoice/Item Number        Date  Store Number  \\\n",
              "0        S24127700024  02/19/2015          3678   \n",
              "1        S15066200002  10/10/2013          2633   \n",
              "2        S19323500030  06/03/2014          2607   \n",
              "3        S23334500013  01/06/2015          4810   \n",
              "4        S09742200010  12/27/2012          4025   \n",
              "\n",
              "                             Store Name                   Address  \\\n",
              "0                       Smoke Shop, The           1918 SE 14TH ST   \n",
              "1          Hy-Vee #3 / BDI / Des Moines           3221 SE 14TH ST   \n",
              "2  Hy-Vee Wine and Spirits / Shenandoah            520 SO FREMONT   \n",
              "3                Kum & Go #518 / Ankeny  3603 NE OTTERVIEW CIRCLE   \n",
              "4               Karam Kaur Khasriya Llc               702 13TH ST   \n",
              "\n",
              "           City Zip Code                Store Location  County Number  County  \\\n",
              "0    DES MOINES    50320  POINT (-93.597011 41.570844)           77.0    Polk   \n",
              "1    DES MOINES    50320  POINT (-93.596754 41.554101)           77.0    Polk   \n",
              "2    SHENANDOAH    51601  POINT (-95.385111 40.761736)           73.0    Page   \n",
              "3        ANKENY    50021  POINT (-93.572458 41.760989)           77.0    Polk   \n",
              "4  BELLE PLAINE    52208  POINT (-92.277759 41.897052)            6.0  Benton   \n",
              "\n",
              "   ...  Item Number                 Item Description  Pack Bottle Volume (ml)  \\\n",
              "0  ...        41783     Uv Blue Raspberry Vodka Mini     6                500   \n",
              "1  ...       904969  Sabe Premiom Sake Double Barrel     6                750   \n",
              "2  ...        45277              Paramount White Rum    12               1000   \n",
              "3  ...        43121        Bacardi Superior Rum Mini    12                500   \n",
              "4  ...        11298      Crown Royal Canadian Whisky     6               1750   \n",
              "\n",
              "   State Bottle Cost State Bottle Retail  Bottles Sold  Sale (Dollars)  \\\n",
              "0               4.89                7.34             2           14.68   \n",
              "1              14.99               22.49             6          134.94   \n",
              "2               4.34                6.51            12           78.12   \n",
              "3               5.54                8.31             1            8.31   \n",
              "4              31.00               46.49             2           92.98   \n",
              "\n",
              "   Volume Sold (Liters)  Volume Sold (Gallons)  \n",
              "0                   1.0                   0.26  \n",
              "1                   4.5                   1.19  \n",
              "2                  12.0                   3.17  \n",
              "3                   0.5                   0.13  \n",
              "4                   3.5                   0.92  \n",
              "\n",
              "[5 rows x 24 columns]"
            ],
            "text/html": [
              "\n",
              "  <div id=\"df-fbac119e-4608-4262-8b06-643c49a4b7d0\" class=\"colab-df-container\">\n",
              "    <div>\n",
              "<style scoped>\n",
              "    .dataframe tbody tr th:only-of-type {\n",
              "        vertical-align: middle;\n",
              "    }\n",
              "\n",
              "    .dataframe tbody tr th {\n",
              "        vertical-align: top;\n",
              "    }\n",
              "\n",
              "    .dataframe thead th {\n",
              "        text-align: right;\n",
              "    }\n",
              "</style>\n",
              "<table border=\"1\" class=\"dataframe\">\n",
              "  <thead>\n",
              "    <tr style=\"text-align: right;\">\n",
              "      <th></th>\n",
              "      <th>Invoice/Item Number</th>\n",
              "      <th>Date</th>\n",
              "      <th>Store Number</th>\n",
              "      <th>Store Name</th>\n",
              "      <th>Address</th>\n",
              "      <th>City</th>\n",
              "      <th>Zip Code</th>\n",
              "      <th>Store Location</th>\n",
              "      <th>County Number</th>\n",
              "      <th>County</th>\n",
              "      <th>...</th>\n",
              "      <th>Item Number</th>\n",
              "      <th>Item Description</th>\n",
              "      <th>Pack</th>\n",
              "      <th>Bottle Volume (ml)</th>\n",
              "      <th>State Bottle Cost</th>\n",
              "      <th>State Bottle Retail</th>\n",
              "      <th>Bottles Sold</th>\n",
              "      <th>Sale (Dollars)</th>\n",
              "      <th>Volume Sold (Liters)</th>\n",
              "      <th>Volume Sold (Gallons)</th>\n",
              "    </tr>\n",
              "  </thead>\n",
              "  <tbody>\n",
              "    <tr>\n",
              "      <th>0</th>\n",
              "      <td>S24127700024</td>\n",
              "      <td>02/19/2015</td>\n",
              "      <td>3678</td>\n",
              "      <td>Smoke Shop, The</td>\n",
              "      <td>1918 SE 14TH ST</td>\n",
              "      <td>DES MOINES</td>\n",
              "      <td>50320</td>\n",
              "      <td>POINT (-93.597011 41.570844)</td>\n",
              "      <td>77.0</td>\n",
              "      <td>Polk</td>\n",
              "      <td>...</td>\n",
              "      <td>41783</td>\n",
              "      <td>Uv Blue Raspberry Vodka Mini</td>\n",
              "      <td>6</td>\n",
              "      <td>500</td>\n",
              "      <td>4.89</td>\n",
              "      <td>7.34</td>\n",
              "      <td>2</td>\n",
              "      <td>14.68</td>\n",
              "      <td>1.0</td>\n",
              "      <td>0.26</td>\n",
              "    </tr>\n",
              "    <tr>\n",
              "      <th>1</th>\n",
              "      <td>S15066200002</td>\n",
              "      <td>10/10/2013</td>\n",
              "      <td>2633</td>\n",
              "      <td>Hy-Vee #3 / BDI / Des Moines</td>\n",
              "      <td>3221 SE 14TH ST</td>\n",
              "      <td>DES MOINES</td>\n",
              "      <td>50320</td>\n",
              "      <td>POINT (-93.596754 41.554101)</td>\n",
              "      <td>77.0</td>\n",
              "      <td>Polk</td>\n",
              "      <td>...</td>\n",
              "      <td>904969</td>\n",
              "      <td>Sabe Premiom Sake Double Barrel</td>\n",
              "      <td>6</td>\n",
              "      <td>750</td>\n",
              "      <td>14.99</td>\n",
              "      <td>22.49</td>\n",
              "      <td>6</td>\n",
              "      <td>134.94</td>\n",
              "      <td>4.5</td>\n",
              "      <td>1.19</td>\n",
              "    </tr>\n",
              "    <tr>\n",
              "      <th>2</th>\n",
              "      <td>S19323500030</td>\n",
              "      <td>06/03/2014</td>\n",
              "      <td>2607</td>\n",
              "      <td>Hy-Vee Wine and Spirits / Shenandoah</td>\n",
              "      <td>520 SO FREMONT</td>\n",
              "      <td>SHENANDOAH</td>\n",
              "      <td>51601</td>\n",
              "      <td>POINT (-95.385111 40.761736)</td>\n",
              "      <td>73.0</td>\n",
              "      <td>Page</td>\n",
              "      <td>...</td>\n",
              "      <td>45277</td>\n",
              "      <td>Paramount White Rum</td>\n",
              "      <td>12</td>\n",
              "      <td>1000</td>\n",
              "      <td>4.34</td>\n",
              "      <td>6.51</td>\n",
              "      <td>12</td>\n",
              "      <td>78.12</td>\n",
              "      <td>12.0</td>\n",
              "      <td>3.17</td>\n",
              "    </tr>\n",
              "    <tr>\n",
              "      <th>3</th>\n",
              "      <td>S23334500013</td>\n",
              "      <td>01/06/2015</td>\n",
              "      <td>4810</td>\n",
              "      <td>Kum &amp; Go #518 / Ankeny</td>\n",
              "      <td>3603 NE OTTERVIEW CIRCLE</td>\n",
              "      <td>ANKENY</td>\n",
              "      <td>50021</td>\n",
              "      <td>POINT (-93.572458 41.760989)</td>\n",
              "      <td>77.0</td>\n",
              "      <td>Polk</td>\n",
              "      <td>...</td>\n",
              "      <td>43121</td>\n",
              "      <td>Bacardi Superior Rum Mini</td>\n",
              "      <td>12</td>\n",
              "      <td>500</td>\n",
              "      <td>5.54</td>\n",
              "      <td>8.31</td>\n",
              "      <td>1</td>\n",
              "      <td>8.31</td>\n",
              "      <td>0.5</td>\n",
              "      <td>0.13</td>\n",
              "    </tr>\n",
              "    <tr>\n",
              "      <th>4</th>\n",
              "      <td>S09742200010</td>\n",
              "      <td>12/27/2012</td>\n",
              "      <td>4025</td>\n",
              "      <td>Karam Kaur Khasriya Llc</td>\n",
              "      <td>702 13TH ST</td>\n",
              "      <td>BELLE PLAINE</td>\n",
              "      <td>52208</td>\n",
              "      <td>POINT (-92.277759 41.897052)</td>\n",
              "      <td>6.0</td>\n",
              "      <td>Benton</td>\n",
              "      <td>...</td>\n",
              "      <td>11298</td>\n",
              "      <td>Crown Royal Canadian Whisky</td>\n",
              "      <td>6</td>\n",
              "      <td>1750</td>\n",
              "      <td>31.00</td>\n",
              "      <td>46.49</td>\n",
              "      <td>2</td>\n",
              "      <td>92.98</td>\n",
              "      <td>3.5</td>\n",
              "      <td>0.92</td>\n",
              "    </tr>\n",
              "  </tbody>\n",
              "</table>\n",
              "<p>5 rows × 24 columns</p>\n",
              "</div>\n",
              "    <div class=\"colab-df-buttons\">\n",
              "\n",
              "  <div class=\"colab-df-container\">\n",
              "    <button class=\"colab-df-convert\" onclick=\"convertToInteractive('df-fbac119e-4608-4262-8b06-643c49a4b7d0')\"\n",
              "            title=\"Convert this dataframe to an interactive table.\"\n",
              "            style=\"display:none;\">\n",
              "\n",
              "  <svg xmlns=\"http://www.w3.org/2000/svg\" height=\"24px\" viewBox=\"0 -960 960 960\">\n",
              "    <path d=\"M120-120v-720h720v720H120Zm60-500h600v-160H180v160Zm220 220h160v-160H400v160Zm0 220h160v-160H400v160ZM180-400h160v-160H180v160Zm440 0h160v-160H620v160ZM180-180h160v-160H180v160Zm440 0h160v-160H620v160Z\"/>\n",
              "  </svg>\n",
              "    </button>\n",
              "\n",
              "  <style>\n",
              "    .colab-df-container {\n",
              "      display:flex;\n",
              "      gap: 12px;\n",
              "    }\n",
              "\n",
              "    .colab-df-convert {\n",
              "      background-color: #E8F0FE;\n",
              "      border: none;\n",
              "      border-radius: 50%;\n",
              "      cursor: pointer;\n",
              "      display: none;\n",
              "      fill: #1967D2;\n",
              "      height: 32px;\n",
              "      padding: 0 0 0 0;\n",
              "      width: 32px;\n",
              "    }\n",
              "\n",
              "    .colab-df-convert:hover {\n",
              "      background-color: #E2EBFA;\n",
              "      box-shadow: 0px 1px 2px rgba(60, 64, 67, 0.3), 0px 1px 3px 1px rgba(60, 64, 67, 0.15);\n",
              "      fill: #174EA6;\n",
              "    }\n",
              "\n",
              "    .colab-df-buttons div {\n",
              "      margin-bottom: 4px;\n",
              "    }\n",
              "\n",
              "    [theme=dark] .colab-df-convert {\n",
              "      background-color: #3B4455;\n",
              "      fill: #D2E3FC;\n",
              "    }\n",
              "\n",
              "    [theme=dark] .colab-df-convert:hover {\n",
              "      background-color: #434B5C;\n",
              "      box-shadow: 0px 1px 3px 1px rgba(0, 0, 0, 0.15);\n",
              "      filter: drop-shadow(0px 1px 2px rgba(0, 0, 0, 0.3));\n",
              "      fill: #FFFFFF;\n",
              "    }\n",
              "  </style>\n",
              "\n",
              "    <script>\n",
              "      const buttonEl =\n",
              "        document.querySelector('#df-fbac119e-4608-4262-8b06-643c49a4b7d0 button.colab-df-convert');\n",
              "      buttonEl.style.display =\n",
              "        google.colab.kernel.accessAllowed ? 'block' : 'none';\n",
              "\n",
              "      async function convertToInteractive(key) {\n",
              "        const element = document.querySelector('#df-fbac119e-4608-4262-8b06-643c49a4b7d0');\n",
              "        const dataTable =\n",
              "          await google.colab.kernel.invokeFunction('convertToInteractive',\n",
              "                                                    [key], {});\n",
              "        if (!dataTable) return;\n",
              "\n",
              "        const docLinkHtml = 'Like what you see? Visit the ' +\n",
              "          '<a target=\"_blank\" href=https://colab.research.google.com/notebooks/data_table.ipynb>data table notebook</a>'\n",
              "          + ' to learn more about interactive tables.';\n",
              "        element.innerHTML = '';\n",
              "        dataTable['output_type'] = 'display_data';\n",
              "        await google.colab.output.renderOutput(dataTable, element);\n",
              "        const docLink = document.createElement('div');\n",
              "        docLink.innerHTML = docLinkHtml;\n",
              "        element.appendChild(docLink);\n",
              "      }\n",
              "    </script>\n",
              "  </div>\n",
              "\n",
              "\n",
              "<div id=\"df-cc39a5bb-0ff2-44b3-a61b-c71c580cd31f\">\n",
              "  <button class=\"colab-df-quickchart\" onclick=\"quickchart('df-cc39a5bb-0ff2-44b3-a61b-c71c580cd31f')\"\n",
              "            title=\"Suggest charts\"\n",
              "            style=\"display:none;\">\n",
              "\n",
              "<svg xmlns=\"http://www.w3.org/2000/svg\" height=\"24px\"viewBox=\"0 0 24 24\"\n",
              "     width=\"24px\">\n",
              "    <g>\n",
              "        <path d=\"M19 3H5c-1.1 0-2 .9-2 2v14c0 1.1.9 2 2 2h14c1.1 0 2-.9 2-2V5c0-1.1-.9-2-2-2zM9 17H7v-7h2v7zm4 0h-2V7h2v10zm4 0h-2v-4h2v4z\"/>\n",
              "    </g>\n",
              "</svg>\n",
              "  </button>\n",
              "\n",
              "<style>\n",
              "  .colab-df-quickchart {\n",
              "      --bg-color: #E8F0FE;\n",
              "      --fill-color: #1967D2;\n",
              "      --hover-bg-color: #E2EBFA;\n",
              "      --hover-fill-color: #174EA6;\n",
              "      --disabled-fill-color: #AAA;\n",
              "      --disabled-bg-color: #DDD;\n",
              "  }\n",
              "\n",
              "  [theme=dark] .colab-df-quickchart {\n",
              "      --bg-color: #3B4455;\n",
              "      --fill-color: #D2E3FC;\n",
              "      --hover-bg-color: #434B5C;\n",
              "      --hover-fill-color: #FFFFFF;\n",
              "      --disabled-bg-color: #3B4455;\n",
              "      --disabled-fill-color: #666;\n",
              "  }\n",
              "\n",
              "  .colab-df-quickchart {\n",
              "    background-color: var(--bg-color);\n",
              "    border: none;\n",
              "    border-radius: 50%;\n",
              "    cursor: pointer;\n",
              "    display: none;\n",
              "    fill: var(--fill-color);\n",
              "    height: 32px;\n",
              "    padding: 0;\n",
              "    width: 32px;\n",
              "  }\n",
              "\n",
              "  .colab-df-quickchart:hover {\n",
              "    background-color: var(--hover-bg-color);\n",
              "    box-shadow: 0 1px 2px rgba(60, 64, 67, 0.3), 0 1px 3px 1px rgba(60, 64, 67, 0.15);\n",
              "    fill: var(--button-hover-fill-color);\n",
              "  }\n",
              "\n",
              "  .colab-df-quickchart-complete:disabled,\n",
              "  .colab-df-quickchart-complete:disabled:hover {\n",
              "    background-color: var(--disabled-bg-color);\n",
              "    fill: var(--disabled-fill-color);\n",
              "    box-shadow: none;\n",
              "  }\n",
              "\n",
              "  .colab-df-spinner {\n",
              "    border: 2px solid var(--fill-color);\n",
              "    border-color: transparent;\n",
              "    border-bottom-color: var(--fill-color);\n",
              "    animation:\n",
              "      spin 1s steps(1) infinite;\n",
              "  }\n",
              "\n",
              "  @keyframes spin {\n",
              "    0% {\n",
              "      border-color: transparent;\n",
              "      border-bottom-color: var(--fill-color);\n",
              "      border-left-color: var(--fill-color);\n",
              "    }\n",
              "    20% {\n",
              "      border-color: transparent;\n",
              "      border-left-color: var(--fill-color);\n",
              "      border-top-color: var(--fill-color);\n",
              "    }\n",
              "    30% {\n",
              "      border-color: transparent;\n",
              "      border-left-color: var(--fill-color);\n",
              "      border-top-color: var(--fill-color);\n",
              "      border-right-color: var(--fill-color);\n",
              "    }\n",
              "    40% {\n",
              "      border-color: transparent;\n",
              "      border-right-color: var(--fill-color);\n",
              "      border-top-color: var(--fill-color);\n",
              "    }\n",
              "    60% {\n",
              "      border-color: transparent;\n",
              "      border-right-color: var(--fill-color);\n",
              "    }\n",
              "    80% {\n",
              "      border-color: transparent;\n",
              "      border-right-color: var(--fill-color);\n",
              "      border-bottom-color: var(--fill-color);\n",
              "    }\n",
              "    90% {\n",
              "      border-color: transparent;\n",
              "      border-bottom-color: var(--fill-color);\n",
              "    }\n",
              "  }\n",
              "</style>\n",
              "\n",
              "  <script>\n",
              "    async function quickchart(key) {\n",
              "      const quickchartButtonEl =\n",
              "        document.querySelector('#' + key + ' button');\n",
              "      quickchartButtonEl.disabled = true;  // To prevent multiple clicks.\n",
              "      quickchartButtonEl.classList.add('colab-df-spinner');\n",
              "      try {\n",
              "        const charts = await google.colab.kernel.invokeFunction(\n",
              "            'suggestCharts', [key], {});\n",
              "      } catch (error) {\n",
              "        console.error('Error during call to suggestCharts:', error);\n",
              "      }\n",
              "      quickchartButtonEl.classList.remove('colab-df-spinner');\n",
              "      quickchartButtonEl.classList.add('colab-df-quickchart-complete');\n",
              "    }\n",
              "    (() => {\n",
              "      let quickchartButtonEl =\n",
              "        document.querySelector('#df-cc39a5bb-0ff2-44b3-a61b-c71c580cd31f button');\n",
              "      quickchartButtonEl.style.display =\n",
              "        google.colab.kernel.accessAllowed ? 'block' : 'none';\n",
              "    })();\n",
              "  </script>\n",
              "</div>\n",
              "\n",
              "    </div>\n",
              "  </div>\n"
            ],
            "application/vnd.google.colaboratory.intrinsic+json": {
              "type": "dataframe",
              "variable_name": "df"
            }
          },
          "metadata": {},
          "execution_count": 29
        }
      ]
    },
    {
      "cell_type": "code",
      "source": [
        "print(df.dtypes)\n"
      ],
      "metadata": {
        "id": "djuQTQdQw2hJ",
        "colab": {
          "base_uri": "https://localhost:8080/"
        },
        "outputId": "28e3aba2-7da8-4a76-f787-7ee58ee439ac"
      },
      "execution_count": null,
      "outputs": [
        {
          "output_type": "stream",
          "name": "stdout",
          "text": [
            "Invoice/Item Number       object\n",
            "Date                      object\n",
            "Store Number               int64\n",
            "Store Name                object\n",
            "Address                   object\n",
            "City                      object\n",
            "Zip Code                  object\n",
            "Store Location            object\n",
            "County Number            float64\n",
            "County                    object\n",
            "Category                 float64\n",
            "Category Name             object\n",
            "Vendor Number              int64\n",
            "Vendor Name               object\n",
            "Item Number                int64\n",
            "Item Description          object\n",
            "Pack                       int64\n",
            "Bottle Volume (ml)         int64\n",
            "State Bottle Cost        float64\n",
            "State Bottle Retail      float64\n",
            "Bottles Sold               int64\n",
            "Sale (Dollars)           float64\n",
            "Volume Sold (Liters)     float64\n",
            "Volume Sold (Gallons)    float64\n",
            "dtype: object\n"
          ]
        }
      ]
    },
    {
      "cell_type": "markdown",
      "source": [
        "After importing the necessary libraries, we conduct the formation of the random forests. Preprocessing continues with the handling of missing data, defining the target value and dropping unnecessary columns to reveal a clean and workable dataset. In addition to doing so, the features (x-value), and target (y-value), which is liquor sales, is the variable the model will predict. This will aid in prediction. Feature importance was conducted to see which variables in a dataset have the most influence on the model's predictions, as seen the most important feature was Volume Sold (Liters) and Bottles Sold.\n",
        "\n",
        "The training will reveal patterns and evaluate feature importance showing the key drivers behind liquor sales predictions.\n",
        "\n",
        "Categorical data is converted into numerical format to help with interpretation by use of LabelEncoder.\n",
        "\n",
        "Gradient Boosting helps with fitting the model by. learning the relationship between the input features and the target. Following this, the feature importance gives a score for each feature to see which features have the biggest impact -- a dataframe visualizes and aids in sorting in importance.\n",
        "\n"
      ],
      "metadata": {
        "id": "oMyidgO9pqE5"
      }
    },
    {
      "cell_type": "code",
      "source": [
        "\n",
        "import numpy as np\n",
        "import pandas as pd\n",
        "from matplotlib import pyplot as plt\n",
        "from sklearn.datasets import make_blobs\n",
        "from sklearn.cluster import KMeans\n",
        "import seaborn as sns\n",
        "\n"
      ],
      "metadata": {
        "id": "kNNWrv85rMz8"
      },
      "execution_count": null,
      "outputs": []
    },
    {
      "cell_type": "code",
      "source": [
        "pip install scikit-learn"
      ],
      "metadata": {
        "id": "3Vn9lK7Dt7kR",
        "colab": {
          "base_uri": "https://localhost:8080/"
        },
        "outputId": "3e8a2364-1725-4b17-b58e-4dd68d757c8f"
      },
      "execution_count": null,
      "outputs": [
        {
          "output_type": "stream",
          "name": "stdout",
          "text": [
            "Requirement already satisfied: scikit-learn in /usr/local/lib/python3.10/dist-packages (1.3.2)\n",
            "Requirement already satisfied: numpy<2.0,>=1.17.3 in /usr/local/lib/python3.10/dist-packages (from scikit-learn) (1.26.4)\n",
            "Requirement already satisfied: scipy>=1.5.0 in /usr/local/lib/python3.10/dist-packages (from scikit-learn) (1.13.1)\n",
            "Requirement already satisfied: joblib>=1.1.1 in /usr/local/lib/python3.10/dist-packages (from scikit-learn) (1.4.2)\n",
            "Requirement already satisfied: threadpoolctl>=2.0.0 in /usr/local/lib/python3.10/dist-packages (from scikit-learn) (3.5.0)\n"
          ]
        }
      ]
    },
    {
      "cell_type": "markdown",
      "source": [
        "**Feature Importance**"
      ],
      "metadata": {
        "id": "YjT7s2xfoMvb"
      }
    },
    {
      "cell_type": "code",
      "source": [
        "from sklearn.preprocessing import LabelEncoder"
      ],
      "metadata": {
        "id": "4q9Cf3gras5K"
      },
      "execution_count": null,
      "outputs": []
    },
    {
      "cell_type": "code",
      "source": [
        "from sklearn.ensemble import GradientBoostingRegressor\n",
        "\n",
        "\n",
        "df = df.dropna()\n",
        "target = 'Sale (Dollars)'\n",
        "X = df.drop(columns=[target, 'Item Description', 'Date', 'Item Number', 'Category', 'Store Location', 'Invoice/Item Number', 'City', 'Bottle Volume (ml)', 'Store Name', 'Vendor Name', 'Vendor Number', 'Category Name', 'Store Number', 'Address', 'Zip Code', 'County', 'Pack', 'County Number' ])  # Features\n",
        "y = df[target]  # Target variable\n",
        "\n",
        "le = LabelEncoder()\n",
        "X = X.apply(le.fit_transform)\n",
        "\n",
        "\n",
        "# Train a Gradient Boosting model\n",
        "model = GradientBoostingRegressor()\n",
        "model.fit(X, y)\n",
        "\n",
        "# Find feature importances\n",
        "importances = model.feature_importances_\n",
        "feature_names = X.columns\n",
        "\n",
        "# create a dataframe for the feature importances\n",
        "importance_df = pd.DataFrame({'Feature': feature_names, 'Importance': importances})\n",
        "importance_df = importance_df.sort_values(by='Importance', ascending=False)\n",
        "\n",
        "print(importance_df)"
      ],
      "metadata": {
        "id": "VhSZ_-lMyv4y",
        "colab": {
          "base_uri": "https://localhost:8080/"
        },
        "outputId": "e1c4ac06-34f1-42f6-c740-c30ec55072e1"
      },
      "execution_count": null,
      "outputs": [
        {
          "output_type": "stream",
          "name": "stdout",
          "text": [
            "                 Feature  Importance\n",
            "4  Volume Sold (Gallons)    0.383534\n",
            "2           Bottles Sold    0.339545\n",
            "3   Volume Sold (Liters)    0.172786\n",
            "0      State Bottle Cost    0.058755\n",
            "1    State Bottle Retail    0.045380\n"
          ]
        }
      ]
    },
    {
      "cell_type": "code",
      "source": [
        "features = pd.get_dummies(df)\n",
        "features.head(5)\n",
        "\n",
        "labels = np.array(features['Sale (Dollars)'])\n",
        "\n",
        "# Drop the target variable from the features\n",
        "features= features.drop('Sale (Dollars)', axis = 1)\n",
        "\n",
        "# Saving feature names for later use\n",
        "feature_list = list(features.columns)\n",
        "\n",
        "features = np.array(features)"
      ],
      "metadata": {
        "id": "zxDJmdyNiLoh"
      },
      "execution_count": null,
      "outputs": []
    },
    {
      "cell_type": "markdown",
      "source": [
        "**Random Forest**"
      ],
      "metadata": {
        "id": "vy4HJtHgoVRr"
      }
    },
    {
      "cell_type": "markdown",
      "source": [
        "Next, we split the data into training and testing sets and add a Random Forest Classifier for classification and regression tasks. The data split of 80% and 20% ensures the model is trained on one portion of the data and tested on a separate portion to evaluate its performance.\n",
        "\n",
        "Additionally, to using the Random Forest Regressor, 100 decision trees are trained to ensure consistent results for multiple runs.\n",
        "\n",
        "There's a R^2 squared value which is appropiate for predicting continuous outcomes.\n",
        "The goal is to understand the proportion of variance explained by the model. In this case, we are predicting sales revenue for liquor. We end up with a R^2 value of 0.82923325293366, meaning 80% of the variance in the liquor sales (target) variable can be explained by the independent (feature) variables."
      ],
      "metadata": {
        "id": "GPiWp0meSYrI"
      }
    },
    {
      "cell_type": "code",
      "source": [
        "\n",
        "import pandas as pd\n",
        "from sklearn.model_selection import train_test_split\n",
        "from sklearn.ensemble import RandomForestClassifier, RandomForestRegressor\n",
        "from sklearn.metrics import accuracy_score, mean_squared_error\n",
        "from sklearn.metrics import r2_score\n",
        "\n",
        "\n",
        "X_train, X_test, y_train, y_test = train_test_split(X, y, test_size=0.2, random_state=42)\n",
        "\n",
        "\n",
        "# Chose 4 max depth to be able to see visualization\n",
        "rf_reg = RandomForestRegressor(n_estimators=100, random_state=42, max_depth=4)\n",
        "\n",
        "\n",
        "rf = rf_reg.fit(X_train, y_train)\n",
        "\n",
        "\n",
        "y_pred = rf_reg.predict(X_test)\n",
        "r = r2_score(y_test, y_pred)\n",
        "\n",
        "print(f\"r^2 score: {r}\")\n"
      ],
      "metadata": {
        "id": "ctea47E0sCfh",
        "colab": {
          "base_uri": "https://localhost:8080/"
        },
        "outputId": "83ff27a3-3d62-41d6-a18f-0bf835690371"
      },
      "execution_count": null,
      "outputs": [
        {
          "output_type": "stream",
          "name": "stdout",
          "text": [
            "r^2 score: 0.82923325293366\n"
          ]
        }
      ]
    },
    {
      "cell_type": "code",
      "source": [
        "from sklearn.tree import export_graphviz\n",
        "import pydot\n",
        "\n",
        "\n",
        "tree = rf.estimators_[5]\n",
        "\n",
        "\n",
        "export_graphviz(tree, out_file = 'tree.dot', rounded = True, precision = 1)\n",
        "\n",
        "\n",
        "(graph, ) = pydot.graph_from_dot_file('tree.dot')\n",
        "\n",
        "\n",
        "graph.write_png('tree.png');"
      ],
      "metadata": {
        "id": "RaIS1AP1htv_"
      },
      "execution_count": null,
      "outputs": []
    },
    {
      "cell_type": "markdown",
      "source": [
        "**Conclusion**"
      ],
      "metadata": {
        "id": "0q-vgadKn5DO"
      }
    },
    {
      "cell_type": "markdown",
      "source": [
        "After analyzing the liquor sales dataset using a Random Forest model, we can draw important conclusions regarding the relationship between key features and sales outcomes. The most influential factors impacting liquor sales are ‘Volume Sold (Liters and Gallons)’ and ‘Bottles Sold’, as they directly reflect the quantity and size of liquor purchases. Additionally, pricing-related variables, such as ‘State Bottle Cost’ and ‘State Bottle Retail’, play a critical role in determining revenue, albeit with a lesser impact than the volume-based features.\n",
        "\n",
        "In the decision tree diagram, the model aims to minimize the squared error when predicting 'Sale (Dollars)'. The root node splits based on ‘Volume Sold (Liters)’, the most significant feature with an importance score of 0.384. At this first split, data is divided based on whether the volume sold is less than or equal to 101.5 liters, with an average sales value of 123.80 (dollars) and a squared error of 119868.3. Further splits occur based on ‘Bottles Sold’ (importance score of 0.339) at x[4] <= 56.5, predicting sales at $115. This helps reduce the squared error to 44204.4, showing how volume and bottles sold dominate the tree's early splits to drive the prediction of sales values.\n",
        "\n",
        "As the tree progresses, splits based on ‘State Bottle Retail’ (importance score 0.038) further refine the sales predictions, leading to nodes that predict high sales values, such as 1980.60(dollars). Additional splits involving features like ‘Volume Sold (Gallons)’ (importance score of 0.173) and further price-based splits result in terminal nodes that predict final sales values ranging from 446.80 to 2564.10 (dollars). The right subtree similarly uses ‘Volume Sold (Gallons)’ and price features like ‘State Bottle Cost’ to continue refining predictions, with one terminal node accurately predicting sales of $31344.0 with zero error for a small subset of the data.\n",
        "\n",
        "The structure of the decision tree reveals that features with the highest importance— ‘Volume Sold’ and ‘Bottles Sold’ —dominate the upper nodes, as they offer the most significant reductions in error. In contrast, pricing features like ‘State Bottle Cost’ and ‘State Bottle Retail’, while relevant, appear lower in the tree and provide more granular adjustments to the model's predictions. This hierarchy reflects how the model balances both volume and pricing to optimize predictions for 'Sale (Dollars)'.\n",
        "\n",
        "In real-world liquor sales trends, the relationship between quantity sold and pricing is often a key driver of revenue. Larger volumes, particularly for high-demand items, contribute more to total sales, while competitive pricing strategies can further influence consumer purchasing behavior. The decision tree helps illustrate how these factors interact to predict sales outcomes effectively.\n",
        "\n",
        "Overall, the Random Forest model demonstrates the importance of these features by segmenting the data based on volume and pricing characteristics, while also improving accuracy and reducing overfitting. This analysis provides valuable insights into liquor sales, potentially informing pricing strategies, inventory management, and sales forecasting for businesses in the industry."
      ],
      "metadata": {
        "id": "ksraZpk5kYc_"
      }
    },
    {
      "cell_type": "code",
      "source": [
        "f = files.upload()\n",
        "\n",
        "# Convert ipynb to html\n",
        "import subprocess\n",
        "file0 = list(f.keys())[0]\n",
        "_ = subprocess.run([\"pip\", \"install\", \"nbconvert\"])\n",
        "_ = subprocess.run([\"jupyter\", \"nbconvert\", file0, \"--to\", \"html\"])\n",
        "\n",
        "# download the html\n",
        "files.download(file0[:-5]+\"html\")"
      ],
      "metadata": {
        "colab": {
          "base_uri": "https://localhost:8080/",
          "height": 73
        },
        "id": "-W26yx_luW_m",
        "outputId": "afdcebb6-094a-43b1-9631-26af1ed7427b"
      },
      "execution_count": null,
      "outputs": [
        {
          "output_type": "display_data",
          "data": {
            "text/plain": [
              "<IPython.core.display.HTML object>"
            ],
            "text/html": [
              "\n",
              "     <input type=\"file\" id=\"files-56a4cb17-ed88-4be8-8437-79cdcd594515\" name=\"files[]\" multiple disabled\n",
              "        style=\"border:none\" />\n",
              "     <output id=\"result-56a4cb17-ed88-4be8-8437-79cdcd594515\">\n",
              "      Upload widget is only available when the cell has been executed in the\n",
              "      current browser session. Please rerun this cell to enable.\n",
              "      </output>\n",
              "      <script>// Copyright 2017 Google LLC\n",
              "//\n",
              "// Licensed under the Apache License, Version 2.0 (the \"License\");\n",
              "// you may not use this file except in compliance with the License.\n",
              "// You may obtain a copy of the License at\n",
              "//\n",
              "//      http://www.apache.org/licenses/LICENSE-2.0\n",
              "//\n",
              "// Unless required by applicable law or agreed to in writing, software\n",
              "// distributed under the License is distributed on an \"AS IS\" BASIS,\n",
              "// WITHOUT WARRANTIES OR CONDITIONS OF ANY KIND, either express or implied.\n",
              "// See the License for the specific language governing permissions and\n",
              "// limitations under the License.\n",
              "\n",
              "/**\n",
              " * @fileoverview Helpers for google.colab Python module.\n",
              " */\n",
              "(function(scope) {\n",
              "function span(text, styleAttributes = {}) {\n",
              "  const element = document.createElement('span');\n",
              "  element.textContent = text;\n",
              "  for (const key of Object.keys(styleAttributes)) {\n",
              "    element.style[key] = styleAttributes[key];\n",
              "  }\n",
              "  return element;\n",
              "}\n",
              "\n",
              "// Max number of bytes which will be uploaded at a time.\n",
              "const MAX_PAYLOAD_SIZE = 100 * 1024;\n",
              "\n",
              "function _uploadFiles(inputId, outputId) {\n",
              "  const steps = uploadFilesStep(inputId, outputId);\n",
              "  const outputElement = document.getElementById(outputId);\n",
              "  // Cache steps on the outputElement to make it available for the next call\n",
              "  // to uploadFilesContinue from Python.\n",
              "  outputElement.steps = steps;\n",
              "\n",
              "  return _uploadFilesContinue(outputId);\n",
              "}\n",
              "\n",
              "// This is roughly an async generator (not supported in the browser yet),\n",
              "// where there are multiple asynchronous steps and the Python side is going\n",
              "// to poll for completion of each step.\n",
              "// This uses a Promise to block the python side on completion of each step,\n",
              "// then passes the result of the previous step as the input to the next step.\n",
              "function _uploadFilesContinue(outputId) {\n",
              "  const outputElement = document.getElementById(outputId);\n",
              "  const steps = outputElement.steps;\n",
              "\n",
              "  const next = steps.next(outputElement.lastPromiseValue);\n",
              "  return Promise.resolve(next.value.promise).then((value) => {\n",
              "    // Cache the last promise value to make it available to the next\n",
              "    // step of the generator.\n",
              "    outputElement.lastPromiseValue = value;\n",
              "    return next.value.response;\n",
              "  });\n",
              "}\n",
              "\n",
              "/**\n",
              " * Generator function which is called between each async step of the upload\n",
              " * process.\n",
              " * @param {string} inputId Element ID of the input file picker element.\n",
              " * @param {string} outputId Element ID of the output display.\n",
              " * @return {!Iterable<!Object>} Iterable of next steps.\n",
              " */\n",
              "function* uploadFilesStep(inputId, outputId) {\n",
              "  const inputElement = document.getElementById(inputId);\n",
              "  inputElement.disabled = false;\n",
              "\n",
              "  const outputElement = document.getElementById(outputId);\n",
              "  outputElement.innerHTML = '';\n",
              "\n",
              "  const pickedPromise = new Promise((resolve) => {\n",
              "    inputElement.addEventListener('change', (e) => {\n",
              "      resolve(e.target.files);\n",
              "    });\n",
              "  });\n",
              "\n",
              "  const cancel = document.createElement('button');\n",
              "  inputElement.parentElement.appendChild(cancel);\n",
              "  cancel.textContent = 'Cancel upload';\n",
              "  const cancelPromise = new Promise((resolve) => {\n",
              "    cancel.onclick = () => {\n",
              "      resolve(null);\n",
              "    };\n",
              "  });\n",
              "\n",
              "  // Wait for the user to pick the files.\n",
              "  const files = yield {\n",
              "    promise: Promise.race([pickedPromise, cancelPromise]),\n",
              "    response: {\n",
              "      action: 'starting',\n",
              "    }\n",
              "  };\n",
              "\n",
              "  cancel.remove();\n",
              "\n",
              "  // Disable the input element since further picks are not allowed.\n",
              "  inputElement.disabled = true;\n",
              "\n",
              "  if (!files) {\n",
              "    return {\n",
              "      response: {\n",
              "        action: 'complete',\n",
              "      }\n",
              "    };\n",
              "  }\n",
              "\n",
              "  for (const file of files) {\n",
              "    const li = document.createElement('li');\n",
              "    li.append(span(file.name, {fontWeight: 'bold'}));\n",
              "    li.append(span(\n",
              "        `(${file.type || 'n/a'}) - ${file.size} bytes, ` +\n",
              "        `last modified: ${\n",
              "            file.lastModifiedDate ? file.lastModifiedDate.toLocaleDateString() :\n",
              "                                    'n/a'} - `));\n",
              "    const percent = span('0% done');\n",
              "    li.appendChild(percent);\n",
              "\n",
              "    outputElement.appendChild(li);\n",
              "\n",
              "    const fileDataPromise = new Promise((resolve) => {\n",
              "      const reader = new FileReader();\n",
              "      reader.onload = (e) => {\n",
              "        resolve(e.target.result);\n",
              "      };\n",
              "      reader.readAsArrayBuffer(file);\n",
              "    });\n",
              "    // Wait for the data to be ready.\n",
              "    let fileData = yield {\n",
              "      promise: fileDataPromise,\n",
              "      response: {\n",
              "        action: 'continue',\n",
              "      }\n",
              "    };\n",
              "\n",
              "    // Use a chunked sending to avoid message size limits. See b/62115660.\n",
              "    let position = 0;\n",
              "    do {\n",
              "      const length = Math.min(fileData.byteLength - position, MAX_PAYLOAD_SIZE);\n",
              "      const chunk = new Uint8Array(fileData, position, length);\n",
              "      position += length;\n",
              "\n",
              "      const base64 = btoa(String.fromCharCode.apply(null, chunk));\n",
              "      yield {\n",
              "        response: {\n",
              "          action: 'append',\n",
              "          file: file.name,\n",
              "          data: base64,\n",
              "        },\n",
              "      };\n",
              "\n",
              "      let percentDone = fileData.byteLength === 0 ?\n",
              "          100 :\n",
              "          Math.round((position / fileData.byteLength) * 100);\n",
              "      percent.textContent = `${percentDone}% done`;\n",
              "\n",
              "    } while (position < fileData.byteLength);\n",
              "  }\n",
              "\n",
              "  // All done.\n",
              "  yield {\n",
              "    response: {\n",
              "      action: 'complete',\n",
              "    }\n",
              "  };\n",
              "}\n",
              "\n",
              "scope.google = scope.google || {};\n",
              "scope.google.colab = scope.google.colab || {};\n",
              "scope.google.colab._files = {\n",
              "  _uploadFiles,\n",
              "  _uploadFilesContinue,\n",
              "};\n",
              "})(self);\n",
              "</script> "
            ]
          },
          "metadata": {}
        },
        {
          "output_type": "stream",
          "name": "stdout",
          "text": [
            "Saving Big_Sales_Data (2).ipynb to Big_Sales_Data (2).ipynb\n"
          ]
        },
        {
          "output_type": "display_data",
          "data": {
            "text/plain": [
              "<IPython.core.display.Javascript object>"
            ],
            "application/javascript": [
              "\n",
              "    async function download(id, filename, size) {\n",
              "      if (!google.colab.kernel.accessAllowed) {\n",
              "        return;\n",
              "      }\n",
              "      const div = document.createElement('div');\n",
              "      const label = document.createElement('label');\n",
              "      label.textContent = `Downloading \"${filename}\": `;\n",
              "      div.appendChild(label);\n",
              "      const progress = document.createElement('progress');\n",
              "      progress.max = size;\n",
              "      div.appendChild(progress);\n",
              "      document.body.appendChild(div);\n",
              "\n",
              "      const buffers = [];\n",
              "      let downloaded = 0;\n",
              "\n",
              "      const channel = await google.colab.kernel.comms.open(id);\n",
              "      // Send a message to notify the kernel that we're ready.\n",
              "      channel.send({})\n",
              "\n",
              "      for await (const message of channel.messages) {\n",
              "        // Send a message to notify the kernel that we're ready.\n",
              "        channel.send({})\n",
              "        if (message.buffers) {\n",
              "          for (const buffer of message.buffers) {\n",
              "            buffers.push(buffer);\n",
              "            downloaded += buffer.byteLength;\n",
              "            progress.value = downloaded;\n",
              "          }\n",
              "        }\n",
              "      }\n",
              "      const blob = new Blob(buffers, {type: 'application/binary'});\n",
              "      const a = document.createElement('a');\n",
              "      a.href = window.URL.createObjectURL(blob);\n",
              "      a.download = filename;\n",
              "      div.appendChild(a);\n",
              "      a.click();\n",
              "      div.remove();\n",
              "    }\n",
              "  "
            ]
          },
          "metadata": {}
        },
        {
          "output_type": "display_data",
          "data": {
            "text/plain": [
              "<IPython.core.display.Javascript object>"
            ],
            "application/javascript": [
              "download(\"download_ad79992f-9d49-4a6f-b5c9-9d5d0daa6a4f\", \"Big_Sales_Data (2).html\", 622816)"
            ]
          },
          "metadata": {}
        }
      ]
    }
  ]
}